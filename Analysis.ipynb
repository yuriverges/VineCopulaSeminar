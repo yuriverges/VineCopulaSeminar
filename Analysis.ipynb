{
 "cells": [
  {
   "cell_type": "code",
   "execution_count": null,
   "metadata": {
    "collapsed": true
   },
   "outputs": [],
   "source": [
    "import pandas as pd\n",
    "import numpy as np\n",
    "import matplotlib.pyplot as plt\n",
    "import plotly.express as px\n",
    "from SourceCodes.invariance_analysis import quick_invariance_analysis\n",
    "\n",
    "\n",
    "columns_mappings = {'ES1 Index': 'SP500',\n",
    "                    'NQ1 Index': 'Nasdaq100',\n",
    "                    'VG1 Index': 'Euro Stox50',\n",
    "                    'BZ1 Index': 'Ibovespa',\n",
    "                    'TY1 Comdty':'10-Year Treasury',\n",
    "                    'RX1 Comdty': 'Euro Bund',\n",
    "                    'EC1 Curncy': 'EUR/USD',\n",
    "                    'BP1 Curncy': 'GBP/USD',\n",
    "                    'UC1 Curncy': 'USD/BRL',\n",
    "                    'CL1 Comdty': 'WTI',\n",
    "                    'CO1 Comdty': 'Brent'}"
   ]
  },
  {
   "cell_type": "code",
   "execution_count": null,
   "outputs": [],
   "source": [
    "# Reading data\n",
    "df = pd.read_csv(\"Data/data.csv\", index_col=\"Dates\", date_parser = pd.to_datetime).rename(columns=columns_mappings)\n",
    "df_log_ret = np.log(df).diff()\n",
    "n = df.shape[0]\n"
   ],
   "metadata": {
    "collapsed": false
   }
  },
  {
   "cell_type": "code",
   "execution_count": null,
   "outputs": [],
   "source": [
    "# Quick Invariance Analysis\n",
    "for item in df_log_ret.columns:\n",
    "    fig, axs = quick_invariance_analysis(df_log_ret[item], n_chunks=3, nbins=30)\n",
    "    fig.set_size_inches(20, 20)"
   ],
   "metadata": {
    "collapsed": false
   }
  },
  {
   "cell_type": "code",
   "execution_count": null,
   "outputs": [],
   "source": [
    "# Invariance Analysis\n",
    "fig1 =  px.scatter_matrix(data_frame=df_log_ret.iloc[1:, :],\n",
    "                          dimensions=df_log_ret.columns[1:],\n",
    "                          height=4000, width=4000,\n",
    "                          symbol=\"sample\", color=\"sample\")\n",
    "fig1.update_traces(marker=dict(size=4, line=dict(width=1)), opacity=0.6, showlegend=False)\n",
    "#fig1.update_traces(diagonal_visible=False)\n",
    "fig1.update_layout(plot_bgcolor = \"#ffebe3\", colorway = [\"#ff774a\"], title = \"Scatter plots\")\n",
    "fig1.update_layout({\"yaxis\"+str(i+1): dict(range = [-0.15, 0.15]) for i in range(1, len(df.columns))})\n",
    "fig1.update_layout({\"xaxis\"+str(i+1): dict(range = [-0.15, 0.15]) for i in range(1, len(df.columns))})\n",
    "fig1.update_xaxes(visible=True, showgrid=True)\n",
    "fig1.update_yaxes(visible=True, showgrid=True)\n",
    "fig1.write_html(\"HTML/file.html\")\n",
    "\n",
    "fig1.show()\n"
   ],
   "metadata": {
    "collapsed": false
   }
  },
  {
   "cell_type": "code",
   "execution_count": null,
   "outputs": [],
   "source": [
    "def"
   ],
   "metadata": {
    "collapsed": false
   }
  },
  {
   "cell_type": "code",
   "execution_count": null,
   "outputs": [],
   "source": [],
   "metadata": {
    "collapsed": false
   }
  },
  {
   "cell_type": "code",
   "execution_count": null,
   "outputs": [],
   "source": [
    "# Invariance Analysis\n",
    "fig1 =  px.scatter_matrix(data_frame=df_log_ret.iloc[1:, :],\n",
    "                          dimensions=df_log_ret.columns[1:],\n",
    "                          height=4000, width=4000,\n",
    "                          symbol=\"sample\", color=\"sample\")\n",
    "fig1.update_traces(marker=dict(size=4, line=dict(width=1)), opacity=0.6, showlegend=False)\n",
    "#fig1.update_traces(diagonal_visible=False)\n",
    "fig1.update_layout(plot_bgcolor = \"#ffebe3\", colorway = [\"#ff774a\"], title = \"Scatter plots\")\n",
    "fig1.update_layout({\"yaxis\"+str(i+1): dict(range = [-0.15, 0.15]) for i in range(1, len(df.columns))})\n",
    "fig1.update_layout({\"xaxis\"+str(i+1): dict(range = [-0.15, 0.15]) for i in range(1, len(df.columns))})\n",
    "fig1.update_xaxes(visible=True, showgrid=True)\n",
    "fig1.update_yaxes(visible=True, showgrid=True)\n",
    "fig1.write_html(\"HTML/file.html\")\n",
    "\n",
    "fig1.show()"
   ],
   "metadata": {
    "collapsed": false
   }
  }
 ],
 "metadata": {
  "kernelspec": {
   "display_name": "Python 3",
   "language": "python",
   "name": "python3"
  },
  "language_info": {
   "codemirror_mode": {
    "name": "ipython",
    "version": 2
   },
   "file_extension": ".py",
   "mimetype": "text/x-python",
   "name": "python",
   "nbconvert_exporter": "python",
   "pygments_lexer": "ipython2",
   "version": "2.7.6"
  }
 },
 "nbformat": 4,
 "nbformat_minor": 0
}
