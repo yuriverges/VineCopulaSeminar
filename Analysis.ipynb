{
 "cells": [
  {
   "cell_type": "code",
   "execution_count": null,
   "metadata": {
    "collapsed": true
   },
   "outputs": [],
   "source": [
    "import pandas as pd\n",
    "import numpy as np\n",
    "import scipy as sci\n",
    "import arch\n",
    "import pyvinecopulib as pv\n",
    "import matplotlib.pyplot as plt\n",
    "import plotly.express as px\n",
    "from SourceCodes.invariance_analysis import quick_invariance_analysis\n",
    "\n",
    "\n",
    "columns_mappings = {'ES1 Index': 'SP500',\n",
    "                    'NQ1 Index': 'Nasdaq100',\n",
    "                    'VG1 Index': 'Euro Stox50',\n",
    "                    'BZ1 Index': 'Ibovespa',\n",
    "                    'TY1 Comdty':'10-Year Treasury',\n",
    "                    'RX1 Comdty': 'Euro Bund',\n",
    "                    'EC1 Curncy': 'EUR/USD',\n",
    "                    'BP1 Curncy': 'GBP/USD',\n",
    "                    'UC1 Curncy': 'USD/BRL',\n",
    "                    'CL1 Comdty': 'WTI',\n",
    "                    'CO1 Comdty': 'Brent'}\n",
    "\n",
    "selected_securities = ['SP500', 'Nasdaq100', 'Ibovespa', '10-Year Treasury','USD/BRL']\n"
   ]
  },
  {
   "cell_type": "code",
   "execution_count": 156,
   "outputs": [],
   "source": [
    "# Reading data\n",
    "df = pd.read_csv(\"Data/data.csv\", index_col=\"Dates\", date_parser = pd.to_datetime).rename(columns=columns_mappings)[selected_securities]\n",
    "df.sort_index(inplace=True)\n",
    "returns_scale_factor = 100\n",
    "df_log_ret = np.log(df).diff() * returns_scale_factor\n",
    "n = df.shape[0]\n",
    "n_os = 252\n",
    "n_scenarios = 1000\n",
    "seeds = [int(x) for x in np.ones(len(selected_securities)).tolist()]"
   ],
   "metadata": {
    "collapsed": false
   }
  },
  {
   "cell_type": "code",
   "execution_count": null,
   "outputs": [],
   "source": [
    "# Quick Invariance Analysis\n",
    "for item in df_log_ret.columns:\n",
    "    fig, axs = quick_invariance_analysis(df_log_ret[item].iloc[:-n_os], n_chunks=3, nbins=30)\n",
    "    fig.set_size_inches(20, 20)"
   ],
   "metadata": {
    "collapsed": false
   }
  },
  {
   "cell_type": "code",
   "execution_count": null,
   "outputs": [],
   "source": [
    "# Fitting a GARCH(1,1) Model and\n",
    "model_list = []\n",
    "\n",
    "for k, item in enumerate(df_log_ret):\n",
    "    mdl = list()\n",
    "    mdl.append(arch.arch_model(df_log_ret.iloc[1:-n_os, k] , mean=\"Zero\", vol=\"GARCH\", p=1, q=1, dist=\"t\"))\n",
    "    mdl.append(mdl[0].fit())\n",
    "    model_list.append(mdl)"
   ],
   "metadata": {
    "collapsed": false
   }
  },
  {
   "cell_type": "code",
   "execution_count": null,
   "outputs": [],
   "source": [
    "fig = model_list[0][1].plot(scale=252)\n",
    "fig.set_size_inches(10, 10)"
   ],
   "metadata": {
    "collapsed": false
   }
  },
  {
   "cell_type": "code",
   "execution_count": null,
   "outputs": [],
   "source": [
    "# Creating the matrix of residuals and scatter plotting\n",
    "for k, item in enumerate(model_list):\n",
    "    if k == 0:\n",
    "        df_log_resid = pd.DataFrame(item[1].std_resid)\n",
    "        df_log_resid.rename(columns={df_log_resid.columns[-1]:item[0].y.name}, inplace=True)\n",
    "    else:\n",
    "        df_log_resid = pd.concat([df_log_resid, pd.DataFrame(item[1].std_resid)], axis=1)\n",
    "        df_log_resid.rename(columns={df_log_resid.columns[-1]:item[0].y.name}, inplace=True)"
   ],
   "metadata": {
    "collapsed": false
   }
  },
  {
   "cell_type": "code",
   "execution_count": null,
   "outputs": [],
   "source": [
    "# Quick Invariance Analysis - Of residuals\n",
    "for item in df_log_resid.columns:\n",
    "    fig, axs = quick_invariance_analysis(df_log_resid[item], n_chunks=3, nbins=30)\n",
    "    fig.set_size_inches(20, 20)"
   ],
   "metadata": {
    "collapsed": false
   }
  },
  {
   "cell_type": "code",
   "execution_count": null,
   "outputs": [],
   "source": [
    "# Calculating the pseudo-observations - Estimated Probability Integral Transform\n",
    "for k, item in enumerate(model_list):\n",
    "    if k == 0:\n",
    "        df_log_resid_pseudo_observations = pd.DataFrame(sci.stats.t.cdf(df_log_resid.iloc[:, k], df=model_list[k][1].params.nu))\n",
    "    else:\n",
    "        df_log_resid_pseudo_observations = pd.concat([df_log_resid_pseudo_observations, pd.Series(sci.stats.t.cdf(df_log_resid.iloc[:, k], df= np.floor(model_list[k][1].params.nu)))], axis=1, ignore_index=True)\n",
    "\n",
    "df_log_resid_pseudo_observations.columns = df_log_resid.columns\n",
    "df_log_resid_pseudo_observations.index=df_log_resid.index"
   ],
   "metadata": {
    "collapsed": false
   }
  },
  {
   "cell_type": "code",
   "execution_count": null,
   "outputs": [],
   "source": [
    "df_log_resid_pseudo_observations.tail(10)"
   ],
   "metadata": {
    "collapsed": false
   }
  },
  {
   "cell_type": "code",
   "execution_count": null,
   "outputs": [],
   "source": [
    "# Empirical Copula Plotting\n",
    "fig1 =  px.scatter_matrix(data_frame=df_log_resid_pseudo_observations,\n",
    "                          dimensions=df_log_resid_pseudo_observations.columns,\n",
    "                          height=2000, width=2000)\n",
    "fig1.update_traces(marker=dict(size=4, line=dict(width=1)), opacity=0.6, showlegend=False)\n",
    "#fig1.update_traces(diagonal_visible=False)\n",
    "fig1.update_layout(plot_bgcolor = \"#ffebe3\", colorway = [\"#ff774a\"], title = \"Empirical Copula\")\n",
    "fig1.update_layout({\"yaxis\"+str(i+1): dict(range = [0, 1]) for i in range(1, len(df.columns))})\n",
    "fig1.update_layout({\"xaxis\"+str(i+1): dict(range = [0, 1]) for i in range(1, len(df.columns))})\n",
    "fig1.update_xaxes(visible=True, showgrid=True)\n",
    "fig1.update_yaxes(visible=True, showgrid=True)\n",
    "fig1.write_html(\"HTML/file.html\")\n",
    "#fig1.show()"
   ],
   "metadata": {
    "collapsed": false
   }
  },
  {
   "cell_type": "code",
   "execution_count": null,
   "outputs": [],
   "source": [
    "# Meta Distribution - Distribution which is constructed by an arbitrary copula and arbitrary marginal distributions"
   ],
   "metadata": {
    "collapsed": false
   }
  },
  {
   "cell_type": "markdown",
   "source": [],
   "metadata": {
    "collapsed": false
   }
  },
  {
   "cell_type": "code",
   "execution_count": 158,
   "outputs": [],
   "source": [
    "# Creating Vine - Structure\n",
    "copVine = pv.Vinecop(d = df_log_resid_pseudo_observations.columns.shape[0])\n",
    "\n",
    "# Selecting Most Appropriate Model Given pseudo-observations\n",
    "copVine.select(data=df_log_resid_pseudo_observations)"
   ],
   "metadata": {
    "collapsed": false
   }
  },
  {
   "cell_type": "code",
   "execution_count": 161,
   "outputs": [],
   "source": [
    "# Simulating U - Given Vine - Empirical X Simulated Copulas\n",
    "n_sim = 10000\n",
    "u_sim = pd.DataFrame(copVine.simulate(n_sim, seeds=seeds), columns=df_log_resid_pseudo_observations.columns)"
   ],
   "metadata": {
    "collapsed": false
   }
  },
  {
   "cell_type": "code",
   "execution_count": null,
   "outputs": [],
   "source": [
    "# Plotting simulation results given Vine\n",
    "fig2 =  px.scatter_matrix(data_frame=u_sim,\n",
    "                          dimensions=u_sim.columns,\n",
    "                          height=2000, width=2000)\n",
    "fig2.update_traces(marker=dict(size=4, line=dict(width=1)), opacity=0.6, showlegend=False)\n",
    "#fig1.update_traces(diagonal_visible=False)\n",
    "fig2.update_layout(plot_bgcolor = \"#ffebe3\", colorway = [\"#ff774a\"], title = \"Simulated Data - Given Vine Structure\")\n",
    "fig2.update_layout({\"yaxis\"+str(i+1): dict(range = [0, 1]) for i in range(1, len(df.columns))})\n",
    "fig2.update_layout({\"xaxis\"+str(i+1): dict(range = [0, 1]) for i in range(1, len(df.columns))})\n",
    "fig2.update_xaxes(visible=True, showgrid=True)\n",
    "fig2.update_yaxes(visible=True, showgrid=True)\n",
    "fig2.write_html(\"HTML/simulated.html\")"
   ],
   "metadata": {
    "collapsed": false
   }
  },
  {
   "cell_type": "code",
   "execution_count": null,
   "outputs": [],
   "source": [],
   "metadata": {
    "collapsed": false
   }
  },
  {
   "cell_type": "code",
   "execution_count": 166,
   "outputs": [],
   "source": [
    "# Scenario Simulation\n",
    "scenarios = list()\n",
    "\n",
    "for k in range(1):\n",
    "    scenario = dict()\n",
    "    scenario['u_sim'] = pd.DataFrame(copVine.simulate(n_os), columns=df_log_resid_pseudo_observations.columns)\n",
    "\n",
    "    scenarios.append(scenario)\n",
    "\n",
    "\n",
    "\n",
    "\n",
    "\n",
    "\n",
    "\n",
    "\n",
    "\n",
    "\n",
    "\n",
    "\n"
   ],
   "metadata": {
    "collapsed": false
   }
  },
  {
   "cell_type": "code",
   "execution_count": 167,
   "outputs": [
    {
     "data": {
      "text/plain": "        SP500  Nasdaq100  Ibovespa  10-Year Treasury   USD/BRL\n0    0.629553   0.604450  0.205227          0.967480  0.593633\n1    0.028100   0.041084  0.011320          0.880569  0.989292\n2    0.500215   0.246142  0.667144          0.847189  0.394212\n3    0.843561   0.715346  0.423134          0.493626  0.595399\n4    0.096327   0.037325  0.360298          0.791365  0.263864\n..        ...        ...       ...               ...       ...\n247  0.207450   0.234933  0.048435          0.168363  0.687640\n248  0.599112   0.550973  0.549556          0.392095  0.600666\n249  0.993203   0.995129  0.942455          0.067676  0.111330\n250  0.627263   0.812902  0.927369          0.811062  0.226296\n251  0.815777   0.834801  0.936904          0.101790  0.518442\n\n[252 rows x 5 columns]",
      "text/html": "<div>\n<style scoped>\n    .dataframe tbody tr th:only-of-type {\n        vertical-align: middle;\n    }\n\n    .dataframe tbody tr th {\n        vertical-align: top;\n    }\n\n    .dataframe thead th {\n        text-align: right;\n    }\n</style>\n<table border=\"1\" class=\"dataframe\">\n  <thead>\n    <tr style=\"text-align: right;\">\n      <th></th>\n      <th>SP500</th>\n      <th>Nasdaq100</th>\n      <th>Ibovespa</th>\n      <th>10-Year Treasury</th>\n      <th>USD/BRL</th>\n    </tr>\n  </thead>\n  <tbody>\n    <tr>\n      <th>0</th>\n      <td>0.629553</td>\n      <td>0.604450</td>\n      <td>0.205227</td>\n      <td>0.967480</td>\n      <td>0.593633</td>\n    </tr>\n    <tr>\n      <th>1</th>\n      <td>0.028100</td>\n      <td>0.041084</td>\n      <td>0.011320</td>\n      <td>0.880569</td>\n      <td>0.989292</td>\n    </tr>\n    <tr>\n      <th>2</th>\n      <td>0.500215</td>\n      <td>0.246142</td>\n      <td>0.667144</td>\n      <td>0.847189</td>\n      <td>0.394212</td>\n    </tr>\n    <tr>\n      <th>3</th>\n      <td>0.843561</td>\n      <td>0.715346</td>\n      <td>0.423134</td>\n      <td>0.493626</td>\n      <td>0.595399</td>\n    </tr>\n    <tr>\n      <th>4</th>\n      <td>0.096327</td>\n      <td>0.037325</td>\n      <td>0.360298</td>\n      <td>0.791365</td>\n      <td>0.263864</td>\n    </tr>\n    <tr>\n      <th>...</th>\n      <td>...</td>\n      <td>...</td>\n      <td>...</td>\n      <td>...</td>\n      <td>...</td>\n    </tr>\n    <tr>\n      <th>247</th>\n      <td>0.207450</td>\n      <td>0.234933</td>\n      <td>0.048435</td>\n      <td>0.168363</td>\n      <td>0.687640</td>\n    </tr>\n    <tr>\n      <th>248</th>\n      <td>0.599112</td>\n      <td>0.550973</td>\n      <td>0.549556</td>\n      <td>0.392095</td>\n      <td>0.600666</td>\n    </tr>\n    <tr>\n      <th>249</th>\n      <td>0.993203</td>\n      <td>0.995129</td>\n      <td>0.942455</td>\n      <td>0.067676</td>\n      <td>0.111330</td>\n    </tr>\n    <tr>\n      <th>250</th>\n      <td>0.627263</td>\n      <td>0.812902</td>\n      <td>0.927369</td>\n      <td>0.811062</td>\n      <td>0.226296</td>\n    </tr>\n    <tr>\n      <th>251</th>\n      <td>0.815777</td>\n      <td>0.834801</td>\n      <td>0.936904</td>\n      <td>0.101790</td>\n      <td>0.518442</td>\n    </tr>\n  </tbody>\n</table>\n<p>252 rows × 5 columns</p>\n</div>"
     },
     "execution_count": 167,
     "metadata": {},
     "output_type": "execute_result"
    }
   ],
   "source": [
    "scenario['u_sim']"
   ],
   "metadata": {
    "collapsed": false
   }
  },
  {
   "cell_type": "code",
   "execution_count": 175,
   "outputs": [],
   "source": [
    "model = model_list[0]"
   ],
   "metadata": {
    "collapsed": false
   }
  },
  {
   "cell_type": "code",
   "execution_count": 178,
   "outputs": [
    {
     "ename": "TypeError",
     "evalue": "__init__() got an unexpected keyword argument 'mean'",
     "output_type": "error",
     "traceback": [
      "\u001B[1;31m---------------------------------------------------------------------------\u001B[0m",
      "\u001B[1;31mTypeError\u001B[0m                                 Traceback (most recent call last)",
      "\u001B[1;32m<ipython-input-178-30af0cad5325>\u001B[0m in \u001B[0;36m<module>\u001B[1;34m\u001B[0m\n\u001B[1;32m----> 1\u001B[1;33m \u001B[0march\u001B[0m\u001B[1;33m.\u001B[0m\u001B[0munivariate\u001B[0m\u001B[1;33m.\u001B[0m\u001B[0mARCH\u001B[0m\u001B[1;33m(\u001B[0m\u001B[1;32mNone\u001B[0m \u001B[1;33m,\u001B[0m \u001B[0mmean\u001B[0m\u001B[1;33m=\u001B[0m\u001B[1;34m\"Zero\"\u001B[0m\u001B[1;33m,\u001B[0m \u001B[0mvol\u001B[0m\u001B[1;33m=\u001B[0m\u001B[1;34m\"GARCH\"\u001B[0m\u001B[1;33m,\u001B[0m \u001B[0mp\u001B[0m\u001B[1;33m=\u001B[0m\u001B[1;36m1\u001B[0m\u001B[1;33m,\u001B[0m \u001B[0mq\u001B[0m\u001B[1;33m=\u001B[0m\u001B[1;36m1\u001B[0m\u001B[1;33m,\u001B[0m \u001B[0mdist\u001B[0m\u001B[1;33m=\u001B[0m\u001B[1;34m\"t\"\u001B[0m\u001B[1;33m)\u001B[0m\u001B[1;33m\u001B[0m\u001B[1;33m\u001B[0m\u001B[0m\n\u001B[0m",
      "\u001B[1;31mTypeError\u001B[0m: __init__() got an unexpected keyword argument 'mean'"
     ]
    }
   ],
   "source": [
    "arch.univariate.ARCH(None , mean=\"Zero\", vol=\"GARCH\", p=1, q=1, dist=\"t\")"
   ],
   "metadata": {
    "collapsed": false
   }
  },
  {
   "cell_type": "code",
   "execution_count": 177,
   "outputs": [
    {
     "ename": "ImportError",
     "evalue": "cannot import name 'ConstantMean' from 'arch' (C:\\Users\\yuriv\\.conda\\envs\\py37\\lib\\site-packages\\arch\\__init__.py)",
     "output_type": "error",
     "traceback": [
      "\u001B[1;31m---------------------------------------------------------------------------\u001B[0m",
      "\u001B[1;31mImportError\u001B[0m                               Traceback (most recent call last)",
      "\u001B[1;32m<ipython-input-177-41699724a373>\u001B[0m in \u001B[0;36m<module>\u001B[1;34m\u001B[0m\n\u001B[1;32m----> 1\u001B[1;33m \u001B[1;32mfrom\u001B[0m \u001B[0march\u001B[0m \u001B[1;32mimport\u001B[0m \u001B[0mConstantMean\u001B[0m\u001B[1;33m\u001B[0m\u001B[1;33m\u001B[0m\u001B[0m\n\u001B[0m",
      "\u001B[1;31mImportError\u001B[0m: cannot import name 'ConstantMean' from 'arch' (C:\\Users\\yuriv\\.conda\\envs\\py37\\lib\\site-packages\\arch\\__init__.py)"
     ]
    }
   ],
   "source": [
    "from arch.univariate import  ARCH"
   ],
   "metadata": {
    "collapsed": false
   }
  },
  {
   "cell_type": "code",
   "execution_count": 171,
   "outputs": [
    {
     "data": {
      "text/plain": "Dates\n2022-02-09    1.435639\n2022-02-10   -1.768620\n2022-02-11   -1.976009\n2022-02-14   -0.352017\n2022-02-15    1.591673\n2022-02-16    0.122992\n2022-02-17   -2.159598\n2022-02-18   -0.711168\n2022-02-21    0.000000\n2022-02-22   -1.006553\nName: SP500, dtype: float64"
     },
     "execution_count": 171,
     "metadata": {},
     "output_type": "execute_result"
    }
   ],
   "source": [
    "df_log_ret.iloc[1:-n_os, k].tail(10)"
   ],
   "metadata": {
    "collapsed": false
   }
  },
  {
   "cell_type": "code",
   "execution_count": null,
   "outputs": [],
   "source": [
    "def"
   ],
   "metadata": {
    "collapsed": false
   }
  },
  {
   "cell_type": "markdown",
   "source": [
    "https://www.oreilly.com/library/view/bayesian-statistics-an/9781118359778/OEBPS/c1-sec1-0007.htm"
   ],
   "metadata": {
    "collapsed": false
   }
  },
  {
   "cell_type": "code",
   "execution_count": null,
   "outputs": [],
   "source": [
    "# Invariance Analysis\n",
    "fig1 =  px.scatter_matrix(data_frame=df_log_ret.iloc[1:, :],\n",
    "                          dimensions=df_log_ret.columns[1:],\n",
    "                          height=4000, width=4000,\n",
    "                          symbol=\"sample\", color=\"sample\")\n",
    "fig1.update_traces(marker=dict(size=4, line=dict(width=1)), opacity=0.6, showlegend=False)\n",
    "#fig1.update_traces(diagonal_visible=False)\n",
    "fig1.update_layout(plot_bgcolor = \"#ffebe3\", colorway = [\"#ff774a\"], title = \"Scatter plots\")\n",
    "fig1.update_layout({\"yaxis\"+str(i+1): dict(range = [-0.15, 0.15]) for i in range(1, len(df.columns))})\n",
    "fig1.update_layout({\"xaxis\"+str(i+1): dict(range = [-0.15, 0.15]) for i in range(1, len(df.columns))})\n",
    "fig1.update_xaxes(visible=True, showgrid=True)\n",
    "fig1.update_yaxes(visible=True, showgrid=True)\n",
    "fig1.write_html(\"HTML/file.html\")\n",
    "\n",
    "fig1.show()"
   ],
   "metadata": {
    "collapsed": false
   }
  }
 ],
 "metadata": {
  "kernelspec": {
   "display_name": "Python 3",
   "language": "python",
   "name": "python3"
  },
  "language_info": {
   "codemirror_mode": {
    "name": "ipython",
    "version": 2
   },
   "file_extension": ".py",
   "mimetype": "text/x-python",
   "name": "python",
   "nbconvert_exporter": "python",
   "pygments_lexer": "ipython2",
   "version": "2.7.6"
  }
 },
 "nbformat": 4,
 "nbformat_minor": 0
}
